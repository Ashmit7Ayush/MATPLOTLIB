{
 "metadata": {
  "language_info": {
   "codemirror_mode": {
    "name": "ipython",
    "version": 3
   },
   "file_extension": ".py",
   "mimetype": "text/x-python",
   "name": "python",
   "nbconvert_exporter": "python",
   "pygments_lexer": "ipython3",
   "version": 3
  },
  "orig_nbformat": 2
 },
 "nbformat": 4,
 "nbformat_minor": 2,
 "cells": [
  {
   "cell_type": "code",
   "execution_count": null,
   "metadata": {},
   "outputs": [],
   "source": [
    "plt.figure(figsize=(10,10))\n",
    "\n",
    "#  we can also do from which range to which range\n",
    "\n",
    "plt.plot(np.sqrt(error_val[:]),'r-',linewidth=3,label=\"val\")\n",
    "plt.plot(np.sqrt(error_train[:]),'b',linewidth=2,label=\"train\")\n",
    "plt.xlabel('no.of epochs')\n",
    "plt.ylabel('RMSE')\n",
    "plt.axis([800,900,0,1.4])\n",
    "\n",
    "plt.legend()\n",
    "plt.show()"
   ]
  }
 ]
}